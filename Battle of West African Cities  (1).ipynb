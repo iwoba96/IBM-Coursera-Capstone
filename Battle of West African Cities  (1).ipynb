{
 "cells": [
  {
   "cell_type": "markdown",
   "metadata": {},
   "source": [
    "# Capstone Project - The Battle of the Neighborhoods (Week 1)\n",
    "### Applied Data Science Capstone by IBM/Coursera"
   ]
  },
  {
   "cell_type": "markdown",
   "metadata": {},
   "source": [
    "## Introduction: Problem Description "
   ]
  },
  {
   "cell_type": "markdown",
   "metadata": {},
   "source": [
    "Lagos and Accra two of West Africa's commercial cities located in Nigeria and Ghana respectively. The city of Lagos is a major economic focal point in Nigeria as well Accra, Ghana which also serves as the country's capital. With as many things in common as Nigerians and Ghanaians have, there are still many things citizens of either countries still agree and disagree on. Lagos and Accra are both dynamic cities pulsating with creative energy and buzz. There has been ongoing talks, arguments and discussions of the quality of life these two cities have to offer its residents in the areas of entertainment, recreational activities, sport centres etc. They are both entrepreneurial hubs, evolving fast, yet still holding on to their own very distinct identities.\n",
    "\n",
    "This work focuses on analyzing the two neighborhoods earlier mentioned and helps to understand what is popular in them and what they have to offer to someone who is considering making a choice about seeking a life in either of the commercial cities."
   ]
  },
  {
   "cell_type": "markdown",
   "metadata": {},
   "source": [
    "## DATA"
   ]
  },
  {
   "cell_type": "markdown",
   "metadata": {},
   "source": [
    "For this project, we needed data about the neighborhoods in each of these commercial cities. Lagos is divided into 20 Local governemnt area (LGA) 4 among those 20 LGAs are classified under non-metropolitan Lagos State, while the other 16 make up the city of Lagos. Data regarding this information about lagos is found on - [Nigeria Postcode](https://postcode.com.ng/lagos-zip-code-postal-code/). Accra is divided in planned, unplanned and slums neighborhood the dataset for the city of accra is found on - [Neighborhoods of Accra](https://en.wikipedia.org/wiki/Neighborhoods_of_Accra).\n",
    "\n",
    "For the data set of this project i would extract and clean up the data available on [Nigeria Postcode](https://postcode.com.ng/lagos-zip-code-postal-code/) and [Neighborhoods of Accra](https://en.wikipedia.org/wiki/Neighborhoods_of_Accra) into excel format of rows and columns and upload into pandas dataframe on jupyter notebook. The column Towns in Lagos is changed to Neighborbood in excel. \n",
    "\n",
    "Foursquare API will be used to find the longitude and latitude of each of the neighborhoods in both Lagos and Accra. This will form the dataset we will use for this study. Foursquare API would be used to explore the neighborhoods and segment them. "
   ]
  }
 ],
 "metadata": {
  "kernelspec": {
   "display_name": "Python 3",
   "language": "python",
   "name": "python3"
  },
  "language_info": {
   "codemirror_mode": {
    "name": "ipython",
    "version": 3
   },
   "file_extension": ".py",
   "mimetype": "text/x-python",
   "name": "python",
   "nbconvert_exporter": "python",
   "pygments_lexer": "ipython3",
   "version": "3.7.6"
  }
 },
 "nbformat": 4,
 "nbformat_minor": 4
}
